{
 "cells": [
  {
   "cell_type": "code",
   "execution_count": null,
   "metadata": {},
   "outputs": [],
   "source": [
    "#####################################################\n",
    "# cnu 버거 키오스크 \n",
    "# - 일자: 2023년 05월 02일\n",
    "# - 작성자: ChoLong02\n",
    "# - 내용: Console 프로그램(햄버거 판매 키오스크)\n",
    "#####################################################\n",
    "\n",
    "# 조건1\n",
    "# - 결제 X\n",
    "# - 화면 -> Console창\n",
    "# - 사용자가 최대 주문: 버거 1개, 사이드 1개, 음료 1개 고정\n",
    "\n",
    "\n",
    "####################\n",
    "\n",
    "# 1. 메뉴와 가격표 #\n",
    "\n",
    "####################\n",
    "burger_name = {1: \"몬스터와퍼\", 2: \"빅맥\", 3: \"싸이버거\"}\n",
    "side_name = {1: \"감자튀김\", 2: \"치즈스틱\", 3: \"치킨너겟\"}\n",
    "drink_name = {1: \"사이다\", 2: \"콜라\", 3: \"환타\"}\n",
    "\n",
    "burger_price = {1: 7000, 2: 5000, 3:4000}\n",
    "side_price = {1: 2000, 2: 1500, 3: 2000}\n",
    "drink_price = {1: 1500, 2: 1500, 3: 1000}\n",
    "\n",
    "####################\n",
    "\n",
    "# 2.주문 내역 저장 #\n",
    "\n",
    "####################\n",
    "\n",
    "menu_save = {}    # 고객 주문 내역 기록\n",
    "price_save = {}   # 고객 주문 금액 기록\n",
    "\n",
    "\n",
    "####################\n",
    "\n",
    "# 3.메인 메뉴 선택 #\n",
    "\n",
    "####################\n",
    "print(\"■\" * 50)\n",
    "print(\"■■ == CNU 버거(ver 1.1) ==\")\n",
    "print(\"■■ CNU 버거에 방문해주셔서 감사합니다\")\n",
    "print(\"■\" * 50)\n",
    "print(\"■ 메뉴\")\n",
    "print(\"□ 1. 햄버거 세트\")\n",
    "print(\"□ 2. 햄버거 단품\")\n",
    "print(\"□ 3. 사이드 단품\")\n",
    "print(\"□ 4. 음료 단품\")\n",
    "print(\"■\" * 50)\n",
    "\n",
    "\n",
    "# 사용자로부터 메뉴 주문 받기\n",
    "# 조건 1~4값인지 확인\n",
    "#    맞으면 넘어감\n",
    "#    틀리면 다시 error문구 출력, 다시 입력\n",
    "while True:\n",
    "    menu_num = int(input(\">> 번호: \"))\n",
    "    \n",
    "    \n",
    "    if menu_num >= 1 and menu_num <= 4:\n",
    "        break\n",
    "        \n",
    "    else:\n",
    "        print(\"경고: 1~4 사이의 값만 입력해주세요.\")\n",
    "        \n",
    "    \n",
    "#####################\n",
    "# 4. 세부 메뉴 선택 #\n",
    "#####################\n",
    "\n",
    "if menu_num == 1:      # 세트\n",
    "    pass\n",
    "elif menu_num == 2:   # 햄버거\n",
    "    print(\"■\" * 50)\n",
    "    # 1. 햄버거 메뉴 출력\n",
    "    for key, value in burger_name.items():\n",
    "        print(f\"□ {key}.{value}\")\n",
    "    # 2.사용자가 햄버거 메뉴 선택\n",
    "    while True:\n",
    "    menu_num = int(input(\">> 번호: \"))\n",
    "    \n",
    "    \n",
    "    if menu_num >= 1 and menu_num <= 3:\n",
    "        break\n",
    "    else:\n",
    "        print(\"경고: 1~3 사이의 값만 입력해주세요.\")\n",
    "    # 3.사용자가 선택한 메뉴 저장\n",
    "    menu_save[\"burger\"] = burger_name[menu_num]\n",
    "    price_save[\"burger\"] = burger_price[menu_num]\n",
    "elif menu_num == 3:   # 사이드\n",
    "    pass\n",
    "elif menu_num == 4:   # 음료\n",
    "    pass\n",
    "\n",
    "print(menu_save)\n",
    "print(price_save)\n"
   ]
  },
  {
   "cell_type": "code",
   "execution_count": null,
   "metadata": {},
   "outputs": [],
   "source": [
    "# Kiosk에 필요한 기능들(함수)\n",
    "\n",
    "\n",
    "# 1. 세부 메뉴 출력\n",
    "\n",
    "def print_sub_menu():\n",
    "    pass\n",
    "\n",
    "\n",
    "# 2.사용자 메뉴 선택\n",
    "\n",
    "def choice_menu_num():\n",
    "    pass"
   ]
  },
  {
   "cell_type": "code",
   "execution_count": null,
   "metadata": {},
   "outputs": [],
   "source": []
  },
  {
   "cell_type": "code",
   "execution_count": null,
   "metadata": {},
   "outputs": [],
   "source": []
  },
  {
   "cell_type": "code",
   "execution_count": null,
   "metadata": {},
   "outputs": [],
   "source": []
  },
  {
   "cell_type": "code",
   "execution_count": null,
   "metadata": {},
   "outputs": [],
   "source": []
  },
  {
   "cell_type": "code",
   "execution_count": null,
   "metadata": {},
   "outputs": [],
   "source": []
  },
  {
   "cell_type": "code",
   "execution_count": null,
   "metadata": {},
   "outputs": [],
   "source": []
  },
  {
   "cell_type": "code",
   "execution_count": null,
   "metadata": {},
   "outputs": [],
   "source": []
  },
  {
   "cell_type": "code",
   "execution_count": null,
   "metadata": {},
   "outputs": [],
   "source": []
  },
  {
   "cell_type": "code",
   "execution_count": null,
   "metadata": {},
   "outputs": [],
   "source": []
  },
  {
   "cell_type": "code",
   "execution_count": null,
   "metadata": {},
   "outputs": [],
   "source": []
  },
  {
   "cell_type": "code",
   "execution_count": null,
   "metadata": {},
   "outputs": [],
   "source": []
  },
  {
   "cell_type": "code",
   "execution_count": null,
   "metadata": {},
   "outputs": [],
   "source": []
  },
  {
   "cell_type": "code",
   "execution_count": null,
   "metadata": {},
   "outputs": [],
   "source": []
  },
  {
   "cell_type": "code",
   "execution_count": null,
   "metadata": {},
   "outputs": [],
   "source": []
  },
  {
   "cell_type": "code",
   "execution_count": null,
   "metadata": {},
   "outputs": [],
   "source": []
  },
  {
   "cell_type": "code",
   "execution_count": null,
   "metadata": {},
   "outputs": [],
   "source": []
  },
  {
   "cell_type": "code",
   "execution_count": null,
   "metadata": {},
   "outputs": [],
   "source": []
  }
 ],
 "metadata": {
  "kernelspec": {
   "display_name": "Python 3",
   "language": "python",
   "name": "python3"
  },
  "language_info": {
   "codemirror_mode": {
    "name": "ipython",
    "version": 3
   },
   "file_extension": ".py",
   "mimetype": "text/x-python",
   "name": "python",
   "nbconvert_exporter": "python",
   "pygments_lexer": "ipython3",
   "version": "3.7.6"
  }
 },
 "nbformat": 4,
 "nbformat_minor": 4
}
