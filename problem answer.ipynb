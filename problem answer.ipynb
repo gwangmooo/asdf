{
 "cells": [
  {
   "cell_type": "code",
   "execution_count": 1,
   "id": "0a6bb788",
   "metadata": {},
   "outputs": [],
   "source": [
    "# 문제2. 학점계산기\n",
    "\n",
    "# 1.사용자로부터 학점 입력(소수점, ex: 4.2)\n",
    "score = float(input(\"학점 입력: \"))\n",
    "\n",
    "# + 추가조건: 사용자가 입력한 값이 0.0~4.5이면 2번으로 넘어감,\n",
    "#             아니면 error문구 출력(0.0~4.5 사이의 값을 입력해주세요.)\n",
    "\n",
    "# 2.입력받은 학점에 따라 등급 출력\n",
    "#  4.0~4.5 A\n",
    "#  3.5~3.9 B\n",
    "#  3.0~3.4 C\n",
    "#  2.5~2.9 D\n",
    "#  그 외 F"
   ]
  },
  {
   "cell_type": "code",
   "execution_count": 7,
   "id": "f6bb7489",
   "metadata": {},
   "outputs": [
    {
     "name": "stdout",
     "output_type": "stream",
     "text": [
      "학점 입력: 2.8\n",
      "D\n"
     ]
    }
   ],
   "source": [
    "score = float(input(\"학점 입력: \"))\n",
    "\n",
    "if score >= 0.0 and score <= 4.5:\n",
    "    if score >= 4.0 and score <= 4.5:\n",
    "        print(\"A\")\n",
    "    elif score < 4.0 and score >= 3.5:\n",
    "        print(\"B\")\n",
    "    elif score < 3.5 and score >= 3.0:\n",
    "        print(\"C\")\n",
    "    elif score < 3.0 and score >= 2.5:\n",
    "        print(\"D\")\n",
    "    else:\n",
    "        print(\"F\")\n",
    "else:\n",
    "    print(\"Error: 0.0~4.5 사이의 값을 입력하세요.\")"
   ]
  },
  {
   "cell_type": "code",
   "execution_count": 9,
   "id": "381a3571",
   "metadata": {
    "scrolled": true
   },
   "outputs": [
    {
     "name": "stdout",
     "output_type": "stream",
     "text": [
      "학점 입력: 4.2\n",
      "A\n"
     ]
    }
   ],
   "source": [
    "score = float(input(\"학점 입력: \"))\n",
    "\n",
    "if score >= 0.0 and score <= 4.5:\n",
    "    if score >= 4.0:     # max score: 4.5\n",
    "        print(\"A\")\n",
    "    elif score >= 3.5:   # max score: 3.9\n",
    "        print(\"B\")\n",
    "    elif score >= 3.0:   # max score: 3.4\n",
    "        print(\"C\")\n",
    "    elif score >= 2.5:   # max score: 2.9\n",
    "        print(\"D\")\n",
    "    else:   # score: 0.0 ~ 2.4\n",
    "        print(\"F\")\n",
    "else:\n",
    "    print(\"Error: 0.0~4.5 사이의 값을 입력하세요.\")"
   ]
  }
 ],
 "metadata": {
  "kernelspec": {
   "display_name": "Python 3 (ipykernel)",
   "language": "python",
   "name": "python3"
  },
  "language_info": {
   "codemirror_mode": {
    "name": "ipython",
    "version": 3
   },
   "file_extension": ".py",
   "mimetype": "text/x-python",
   "name": "python",
   "nbconvert_exporter": "python",
   "pygments_lexer": "ipython3",
   "version": "3.10.9"
  }
 },
 "nbformat": 4,
 "nbformat_minor": 5
}
