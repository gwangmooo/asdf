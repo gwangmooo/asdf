{
 "cells": [
  {
   "cell_type": "code",
   "execution_count": 6,
   "metadata": {},
   "outputs": [
    {
     "name": "stdout",
     "output_type": "stream",
     "text": [
      "[('a', 1), ('b', 2)]\n",
      "<class 'list'>\n",
      "<class 'tuple'>\n"
     ]
    }
   ],
   "source": [
    "# keys() : key값만 반환\n",
    "# values() : value값만 반환\n",
    "# items() : key, value를 튜플로 반환\n",
    "\n",
    "a = {\n",
    "    \"a\" : 1,\n",
    "    \"b\" : 2\n",
    "}\n",
    "\n",
    "# print(a)\n",
    "# print(a.keys())\n",
    "# print(type(a.keys()))\n",
    "# print(a.values())\n",
    "# print(type(a.values()))\n",
    "# print(a.items())\n",
    "# print(type(a.items()))\n",
    "\n",
    "# print(list(a.keys()))\n",
    "# print(type(list(a.keys())))\n",
    "\n",
    "print(list(a.items()))\n",
    "\n",
    "val = list(a.items())\n",
    "\n",
    "print(type(val))\n",
    "print(type(val[0]))"
   ]
  },
  {
   "cell_type": "markdown",
   "metadata": {},
   "source": [
    "### 4.set"
   ]
  },
  {
   "cell_type": "code",
   "execution_count": 8,
   "metadata": {},
   "outputs": [
    {
     "name": "stdout",
     "output_type": "stream",
     "text": [
      "[1, 1, 1, 2, 2, 2, 3, 3, 4, 4, 5]\n",
      "{1, 2, 3, 4, 5}\n",
      "<class 'dict'>\n"
     ]
    }
   ],
   "source": [
    "list_z = [1, 1, 1, 2, 2, 2, 3, 3, 4, 4, 5]\n",
    "print(list_z)\n",
    "\n",
    "set_a = set(list_z)\n",
    "print(set_a)\n",
    "\n",
    "# set? or dict?\n",
    "j = {}\n",
    "print(type(j))"
   ]
  },
  {
   "cell_type": "code",
   "execution_count": 10,
   "metadata": {},
   "outputs": [
    {
     "name": "stdout",
     "output_type": "stream",
     "text": [
      "{1, 2, 3, 4}\n",
      "{2, 3}\n",
      "{1}\n",
      "False\n"
     ]
    }
   ],
   "source": [
    "a = {1, 2, 3}\n",
    "b = {2, 3, 4}\n",
    "\n",
    "print(a.union(b))         # 합집합   시험X\n",
    "print(a.intersection(b))  # 교집합   시험X\n",
    "print(a.difference(b))    # 차집합   시험X\n",
    "print(a.issubset(b))      # 부분집합(b가 {1, 2, 3, 4}이면 True 반환)   시험X"
   ]
  }
 ],
 "metadata": {
  "kernelspec": {
   "display_name": "Python 3",
   "language": "python",
   "name": "python3"
  },
  "language_info": {
   "codemirror_mode": {
    "name": "ipython",
    "version": 3
   },
   "file_extension": ".py",
   "mimetype": "text/x-python",
   "name": "python",
   "nbconvert_exporter": "python",
   "pygments_lexer": "ipython3",
   "version": "3.7.6"
  }
 },
 "nbformat": 4,
 "nbformat_minor": 4
}
