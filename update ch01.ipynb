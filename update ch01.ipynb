{
 "cells": [
  {
   "cell_type": "markdown",
   "id": "83b4af90",
   "metadata": {},
   "source": [
    "### None\n",
    "- 아무런 값을 갖지 않을 때 사용\n",
    "- 일반적으로 변수가 초기값을 갖지 않게 하여 해당 변수를 생성할 때 사용\n",
    "- 기타 언어의 Null과 같은 의미로 사용"
   ]
  },
  {
   "cell_type": "code",
   "execution_count": 1,
   "id": "2b8eaafa",
   "metadata": {},
   "outputs": [
    {
     "name": "stdout",
     "output_type": "stream",
     "text": [
      "None\n"
     ]
    }
   ],
   "source": [
    "student_name = None\n",
    "print(student_name)"
   ]
  },
  {
   "cell_type": "markdown",
   "id": "94284434",
   "metadata": {},
   "source": [
    "### 4. 변수(Variable)\n",
    "- 변수: 하나의 값을 저장할 수 있는 메모리 공간\n",
    "\n",
    "```python\n",
    "# 변수 선언 및 초기화 방법\n",
    "num = 5\n",
    "```\n",
    "동적 타이핑 언어: 코드 작성시 Type을 명시하지 않음(코드 실행시 Python이 체크)  \n",
    "대입연산자(=): 우측의 값을 좌측에 대입, 동등(equal)의 의미 아님\n",
    "\n",
    "- python에서 동등(equal)은 ==을 사용"
   ]
  },
  {
   "cell_type": "code",
   "execution_count": 2,
   "id": "68069e4d",
   "metadata": {},
   "outputs": [],
   "source": [
    "# name 변수 생성\n",
    "# \"Chulwoong Choi\" 값을 name 변수에 저장\n",
    "\n",
    "# name -> 변수 이름\n",
    "# = -> 대입 연산자\n",
    "# \"Chulwoon choi\" -> 값\n",
    "name = \"Chulwoong Choi\""
   ]
  },
  {
   "cell_type": "markdown",
   "id": "98b5e418",
   "metadata": {},
   "source": [
    "###  명명 규칙(nameing rule)\n",
    "1. 영문 대소문자, _, 숫자로만 구성\n",
    "2. 숫자로 시작할 수 없음\n",
    "3. 영어 대소문자 구별\n",
    "4. 예약어 사용불가\n",
    "\n",
    "- 예약어: Python에서 미리 선점하여 사용 중인 키워드\n",
    "- 예약어는 변수, 함수, 클래스 등의 사용자 정의 이름으로 사용할 수 없음\n",
    "- 예약어 예) for, while, if, None, True, False, return, def 등등"
   ]
  },
  {
   "cell_type": "code",
   "execution_count": null,
   "id": "0698c966",
   "metadata": {},
   "outputs": [],
   "source": [
    "# 1abc = 5  (X) 숫자로 시작 불가\n",
    "abc1 = 5  #(0)\n",
    "\n",
    "# 영어 대소문자 구별\n",
    "abc = 5  # abc와 Abc는 서로 다른 변수\n",
    "Abc = 3\n",
    "\n",
    "# 예약어 사용불가\n",
    "# None = 3   #(X)\n",
    "# print = 5  #(X)"
   ]
  },
  {
   "cell_type": "markdown",
   "id": "f7ac6a50",
   "metadata": {},
   "source": [
    "## 5. Naming Method\n",
    "- 변수, 함수, 클래스 등의 사용자 정의 이름에 사용\n",
    "- 프로그래밍 언어별로 사용하는 Naming method가 다름\n",
    "- Python은 snake_case 사용!!\n",
    "\n",
    "1. snake_case: 소문자로 작성, 합성어 '_' 사용\n",
    "2. camelCase: 첫글자 소문자, 합성어 첫글자 대문자\n",
    "3. Pascalㅊase: 첫글자 대문자, 합성어 첫글자 대문자"
   ]
  },
  {
   "cell_type": "markdown",
   "id": "2c1b6f7f",
   "metadata": {},
   "source": [
    "## 6. format 출력\n",
    "\n",
    "1. format(): 과거\n",
    "2. f-string: 최신"
   ]
  },
  {
   "cell_type": "code",
   "execution_count": 4,
   "id": "6cc0471b",
   "metadata": {},
   "outputs": [
    {
     "name": "stdout",
     "output_type": "stream",
     "text": [
      "전남대학교 233927, Gwangmu Heo 입니다.\n",
      "전남대학교 233927, Gwangmu Heo 입니다.\n"
     ]
    }
   ],
   "source": [
    "student_num = 233927\n",
    "student_name = \"Gwangmu Heo\"\n",
    "\n",
    "# 출력: 전남대학교 233927, Gwangmu Heo 입니다.\n",
    "print(\"전남대학교 {}, {} 입니다.\".format(student_num, student_name))\n",
    "print(f\"전남대학교 {student_num}, {student_name} 입니다.\")"
   ]
  },
  {
   "cell_type": "markdown",
   "id": "4317e1a7",
   "metadata": {},
   "source": [
    "## 7. 사칙연산\n",
    "\n",
    "- 더하기: +\n",
    "- 빼기: -\n",
    "- 곱하기: *\n",
    "- 나누기: /\n",
    "- 나누기(몫): //\n",
    "- 나누기(나머지): %\n",
    "- 제곱: **"
   ]
  }
 ],
 "metadata": {
  "kernelspec": {
   "display_name": "Python 3 (ipykernel)",
   "language": "python",
   "name": "python3"
  },
  "language_info": {
   "codemirror_mode": {
    "name": "ipython",
    "version": 3
   },
   "file_extension": ".py",
   "mimetype": "text/x-python",
   "name": "python",
   "nbconvert_exporter": "python",
   "pygments_lexer": "ipython3",
   "version": "3.9.7"
  }
 },
 "nbformat": 4,
 "nbformat_minor": 5
}
